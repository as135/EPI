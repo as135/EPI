{
 "cells": [
  {
   "cell_type": "markdown",
   "metadata": {},
   "source": [
    "## Interview Prep"
   ]
  },
  {
   "cell_type": "code",
   "execution_count": 1,
   "metadata": {},
   "outputs": [],
   "source": [
    "class Solution(object):\n",
    "    \n",
    "    def __init__(self, name, entry):\n",
    "        \n",
    "        self.name = name;\n",
    "        self.entry = entry;\n",
    "    def __repr__(self):\n",
    "        return self.name + \" \" + str(self.entry)\n",
    "    \n",
    "    "
   ]
  },
  {
   "cell_type": "code",
   "execution_count": 2,
   "metadata": {},
   "outputs": [],
   "source": [
    "sol = Solution('grant', 3)"
   ]
  },
  {
   "cell_type": "code",
   "execution_count": 3,
   "metadata": {},
   "outputs": [
    {
     "data": {
      "text/plain": [
       "grant 3"
      ]
     },
     "execution_count": 3,
     "metadata": {},
     "output_type": "execute_result"
    }
   ],
   "source": [
    "sol"
   ]
  },
  {
   "cell_type": "code",
   "execution_count": 4,
   "metadata": {},
   "outputs": [],
   "source": [
    "from collections import namedtuple"
   ]
  },
  {
   "cell_type": "code",
   "execution_count": 5,
   "metadata": {},
   "outputs": [],
   "source": [
    "sums = namedtuple(\"Sums\", ['sum', 'coef']) # typedef"
   ]
  },
  {
   "cell_type": "code",
   "execution_count": 6,
   "metadata": {},
   "outputs": [],
   "source": [
    "s1 = sums(0, 3)"
   ]
  },
  {
   "cell_type": "code",
   "execution_count": 7,
   "metadata": {},
   "outputs": [],
   "source": [
    "import heapq\n",
    "\n",
    "lis = []\n",
    "\n",
    "heapq.heapify(lis)"
   ]
  },
  {
   "cell_type": "code",
   "execution_count": 8,
   "metadata": {},
   "outputs": [],
   "source": [
    "heapq.heappush(lis, 3)"
   ]
  },
  {
   "cell_type": "code",
   "execution_count": 9,
   "metadata": {},
   "outputs": [],
   "source": [
    "heapq.heappush(lis, 5)"
   ]
  },
  {
   "cell_type": "code",
   "execution_count": 10,
   "metadata": {},
   "outputs": [],
   "source": [
    "from collections import defaultdict"
   ]
  },
  {
   "cell_type": "markdown",
   "metadata": {},
   "source": [
    "## Problem 1.1"
   ]
  },
  {
   "cell_type": "code",
   "execution_count": 35,
   "metadata": {},
   "outputs": [],
   "source": [
    "def unique(string: str) -> bool:\n",
    "    \n",
    "    return len(string) == len(set(string))\n",
    "\n",
    "def unique_(string: str) -> bool:\n",
    "    \n",
    "    for i in range(len(string)):\n",
    "        if string[i] in string[0:i]:\n",
    "            return False\n",
    "    return True"
   ]
  },
  {
   "cell_type": "code",
   "execution_count": 28,
   "metadata": {},
   "outputs": [
    {
     "data": {
      "text/plain": [
       "False"
      ]
     },
     "execution_count": 28,
     "metadata": {},
     "output_type": "execute_result"
    }
   ],
   "source": [
    "unique_('abaafafff')"
   ]
  },
  {
   "cell_type": "markdown",
   "metadata": {},
   "source": [
    "## Problem 1.2"
   ]
  },
  {
   "cell_type": "code",
   "execution_count": 32,
   "metadata": {},
   "outputs": [],
   "source": [
    "from collections import Counter\n",
    "\n",
    "def permutation(a: str, b: str) -> bool:\n",
    "    \n",
    "    return Counter(a) == Counter(b)\n",
    "\n",
    "def permutation_(a: str, b: str) -> bool:\n",
    "    \n",
    "    counter1 = Counter()\n",
    "    counter2 = Counter()\n",
    "    \n",
    "    for i in a:\n",
    "        counter1[i] += 1;\n",
    "        \n",
    "    for i in b:\n",
    "        counter2[i] += 1;\n",
    "    \n",
    "    return counter1 == counter2\n",
    "        \n",
    "    "
   ]
  },
  {
   "cell_type": "code",
   "execution_count": 30,
   "metadata": {},
   "outputs": [
    {
     "data": {
      "text/plain": [
       "True"
      ]
     },
     "execution_count": 30,
     "metadata": {},
     "output_type": "execute_result"
    }
   ],
   "source": [
    "permutation('abba', 'bbaa')"
   ]
  },
  {
   "cell_type": "code",
   "execution_count": 34,
   "metadata": {},
   "outputs": [
    {
     "data": {
      "text/plain": [
       "False"
      ]
     },
     "execution_count": 34,
     "metadata": {},
     "output_type": "execute_result"
    }
   ],
   "source": [
    "permutation_('abba', 'bbaa')"
   ]
  },
  {
   "cell_type": "markdown",
   "metadata": {},
   "source": [
    "## Problem 1.3"
   ]
  },
  {
   "cell_type": "code",
   "execution_count": 44,
   "metadata": {},
   "outputs": [
    {
     "data": {
      "text/plain": [
       "'abc'"
      ]
     },
     "execution_count": 44,
     "metadata": {},
     "output_type": "execute_result"
    }
   ],
   "source": [
    "str().join(['a','b','c'])"
   ]
  },
  {
   "cell_type": "code",
   "execution_count": 55,
   "metadata": {},
   "outputs": [],
   "source": [
    "def URLify_pythonic(string: str) -> str:\n",
    "    \n",
    "    return '%20'.join(string.rstrip().split(' '))\n",
    "\n",
    "def URLify(string: str) -> str:\n",
    "    \n",
    "    lis = list(string.rstrip());\n",
    "    \n",
    "    ret = []\n",
    "    \n",
    "    for i in lis:\n",
    "        if i == ' ':\n",
    "            ret.append('%20')\n",
    "        else:\n",
    "            ret.append(i)\n",
    "    return str().join(ret)\n",
    "    \n",
    "    "
   ]
  },
  {
   "cell_type": "code",
   "execution_count": 56,
   "metadata": {},
   "outputs": [
    {
     "data": {
      "text/plain": [
       "'Mr.%20John%20Smith'"
      ]
     },
     "execution_count": 56,
     "metadata": {},
     "output_type": "execute_result"
    }
   ],
   "source": [
    "URLify_pythonic('Mr. John Smith     ')"
   ]
  },
  {
   "cell_type": "code",
   "execution_count": 50,
   "metadata": {
    "collapsed": true,
    "jupyter": {
     "outputs_hidden": true
    }
   },
   "outputs": [
    {
     "name": "stdout",
     "output_type": "stream",
     "text": [
      "Help on class str in module builtins:\n",
      "\n",
      "class str(object)\n",
      " |  str(object='') -> str\n",
      " |  str(bytes_or_buffer[, encoding[, errors]]) -> str\n",
      " |  \n",
      " |  Create a new string object from the given object. If encoding or\n",
      " |  errors is specified, then the object must expose a data buffer\n",
      " |  that will be decoded using the given encoding and error handler.\n",
      " |  Otherwise, returns the result of object.__str__() (if defined)\n",
      " |  or repr(object).\n",
      " |  encoding defaults to sys.getdefaultencoding().\n",
      " |  errors defaults to 'strict'.\n",
      " |  \n",
      " |  Methods defined here:\n",
      " |  \n",
      " |  __add__(self, value, /)\n",
      " |      Return self+value.\n",
      " |  \n",
      " |  __contains__(self, key, /)\n",
      " |      Return key in self.\n",
      " |  \n",
      " |  __eq__(self, value, /)\n",
      " |      Return self==value.\n",
      " |  \n",
      " |  __format__(self, format_spec, /)\n",
      " |      Return a formatted version of the string as described by format_spec.\n",
      " |  \n",
      " |  __ge__(self, value, /)\n",
      " |      Return self>=value.\n",
      " |  \n",
      " |  __getattribute__(self, name, /)\n",
      " |      Return getattr(self, name).\n",
      " |  \n",
      " |  __getitem__(self, key, /)\n",
      " |      Return self[key].\n",
      " |  \n",
      " |  __getnewargs__(...)\n",
      " |  \n",
      " |  __gt__(self, value, /)\n",
      " |      Return self>value.\n",
      " |  \n",
      " |  __hash__(self, /)\n",
      " |      Return hash(self).\n",
      " |  \n",
      " |  __iter__(self, /)\n",
      " |      Implement iter(self).\n",
      " |  \n",
      " |  __le__(self, value, /)\n",
      " |      Return self<=value.\n",
      " |  \n",
      " |  __len__(self, /)\n",
      " |      Return len(self).\n",
      " |  \n",
      " |  __lt__(self, value, /)\n",
      " |      Return self<value.\n",
      " |  \n",
      " |  __mod__(self, value, /)\n",
      " |      Return self%value.\n",
      " |  \n",
      " |  __mul__(self, value, /)\n",
      " |      Return self*value.\n",
      " |  \n",
      " |  __ne__(self, value, /)\n",
      " |      Return self!=value.\n",
      " |  \n",
      " |  __repr__(self, /)\n",
      " |      Return repr(self).\n",
      " |  \n",
      " |  __rmod__(self, value, /)\n",
      " |      Return value%self.\n",
      " |  \n",
      " |  __rmul__(self, value, /)\n",
      " |      Return value*self.\n",
      " |  \n",
      " |  __sizeof__(self, /)\n",
      " |      Return the size of the string in memory, in bytes.\n",
      " |  \n",
      " |  __str__(self, /)\n",
      " |      Return str(self).\n",
      " |  \n",
      " |  capitalize(self, /)\n",
      " |      Return a capitalized version of the string.\n",
      " |      \n",
      " |      More specifically, make the first character have upper case and the rest lower\n",
      " |      case.\n",
      " |  \n",
      " |  casefold(self, /)\n",
      " |      Return a version of the string suitable for caseless comparisons.\n",
      " |  \n",
      " |  center(self, width, fillchar=' ', /)\n",
      " |      Return a centered string of length width.\n",
      " |      \n",
      " |      Padding is done using the specified fill character (default is a space).\n",
      " |  \n",
      " |  count(...)\n",
      " |      S.count(sub[, start[, end]]) -> int\n",
      " |      \n",
      " |      Return the number of non-overlapping occurrences of substring sub in\n",
      " |      string S[start:end].  Optional arguments start and end are\n",
      " |      interpreted as in slice notation.\n",
      " |  \n",
      " |  encode(self, /, encoding='utf-8', errors='strict')\n",
      " |      Encode the string using the codec registered for encoding.\n",
      " |      \n",
      " |      encoding\n",
      " |        The encoding in which to encode the string.\n",
      " |      errors\n",
      " |        The error handling scheme to use for encoding errors.\n",
      " |        The default is 'strict' meaning that encoding errors raise a\n",
      " |        UnicodeEncodeError.  Other possible values are 'ignore', 'replace' and\n",
      " |        'xmlcharrefreplace' as well as any other name registered with\n",
      " |        codecs.register_error that can handle UnicodeEncodeErrors.\n",
      " |  \n",
      " |  endswith(...)\n",
      " |      S.endswith(suffix[, start[, end]]) -> bool\n",
      " |      \n",
      " |      Return True if S ends with the specified suffix, False otherwise.\n",
      " |      With optional start, test S beginning at that position.\n",
      " |      With optional end, stop comparing S at that position.\n",
      " |      suffix can also be a tuple of strings to try.\n",
      " |  \n",
      " |  expandtabs(self, /, tabsize=8)\n",
      " |      Return a copy where all tab characters are expanded using spaces.\n",
      " |      \n",
      " |      If tabsize is not given, a tab size of 8 characters is assumed.\n",
      " |  \n",
      " |  find(...)\n",
      " |      S.find(sub[, start[, end]]) -> int\n",
      " |      \n",
      " |      Return the lowest index in S where substring sub is found,\n",
      " |      such that sub is contained within S[start:end].  Optional\n",
      " |      arguments start and end are interpreted as in slice notation.\n",
      " |      \n",
      " |      Return -1 on failure.\n",
      " |  \n",
      " |  format(...)\n",
      " |      S.format(*args, **kwargs) -> str\n",
      " |      \n",
      " |      Return a formatted version of S, using substitutions from args and kwargs.\n",
      " |      The substitutions are identified by braces ('{' and '}').\n",
      " |  \n",
      " |  format_map(...)\n",
      " |      S.format_map(mapping) -> str\n",
      " |      \n",
      " |      Return a formatted version of S, using substitutions from mapping.\n",
      " |      The substitutions are identified by braces ('{' and '}').\n",
      " |  \n",
      " |  index(...)\n",
      " |      S.index(sub[, start[, end]]) -> int\n",
      " |      \n",
      " |      Return the lowest index in S where substring sub is found, \n",
      " |      such that sub is contained within S[start:end].  Optional\n",
      " |      arguments start and end are interpreted as in slice notation.\n",
      " |      \n",
      " |      Raises ValueError when the substring is not found.\n",
      " |  \n",
      " |  isalnum(self, /)\n",
      " |      Return True if the string is an alpha-numeric string, False otherwise.\n",
      " |      \n",
      " |      A string is alpha-numeric if all characters in the string are alpha-numeric and\n",
      " |      there is at least one character in the string.\n",
      " |  \n",
      " |  isalpha(self, /)\n",
      " |      Return True if the string is an alphabetic string, False otherwise.\n",
      " |      \n",
      " |      A string is alphabetic if all characters in the string are alphabetic and there\n",
      " |      is at least one character in the string.\n",
      " |  \n",
      " |  isascii(self, /)\n",
      " |      Return True if all characters in the string are ASCII, False otherwise.\n",
      " |      \n",
      " |      ASCII characters have code points in the range U+0000-U+007F.\n",
      " |      Empty string is ASCII too.\n",
      " |  \n",
      " |  isdecimal(self, /)\n",
      " |      Return True if the string is a decimal string, False otherwise.\n",
      " |      \n",
      " |      A string is a decimal string if all characters in the string are decimal and\n",
      " |      there is at least one character in the string.\n",
      " |  \n",
      " |  isdigit(self, /)\n",
      " |      Return True if the string is a digit string, False otherwise.\n",
      " |      \n",
      " |      A string is a digit string if all characters in the string are digits and there\n",
      " |      is at least one character in the string.\n",
      " |  \n",
      " |  isidentifier(self, /)\n",
      " |      Return True if the string is a valid Python identifier, False otherwise.\n",
      " |      \n",
      " |      Use keyword.iskeyword() to test for reserved identifiers such as \"def\" and\n",
      " |      \"class\".\n",
      " |  \n",
      " |  islower(self, /)\n",
      " |      Return True if the string is a lowercase string, False otherwise.\n",
      " |      \n",
      " |      A string is lowercase if all cased characters in the string are lowercase and\n",
      " |      there is at least one cased character in the string.\n",
      " |  \n",
      " |  isnumeric(self, /)\n",
      " |      Return True if the string is a numeric string, False otherwise.\n",
      " |      \n",
      " |      A string is numeric if all characters in the string are numeric and there is at\n",
      " |      least one character in the string.\n",
      " |  \n",
      " |  isprintable(self, /)\n",
      " |      Return True if the string is printable, False otherwise.\n",
      " |      \n",
      " |      A string is printable if all of its characters are considered printable in\n",
      " |      repr() or if it is empty.\n",
      " |  \n",
      " |  isspace(self, /)\n",
      " |      Return True if the string is a whitespace string, False otherwise.\n",
      " |      \n",
      " |      A string is whitespace if all characters in the string are whitespace and there\n",
      " |      is at least one character in the string.\n",
      " |  \n",
      " |  istitle(self, /)\n",
      " |      Return True if the string is a title-cased string, False otherwise.\n",
      " |      \n",
      " |      In a title-cased string, upper- and title-case characters may only\n",
      " |      follow uncased characters and lowercase characters only cased ones.\n",
      " |  \n",
      " |  isupper(self, /)\n",
      " |      Return True if the string is an uppercase string, False otherwise.\n",
      " |      \n",
      " |      A string is uppercase if all cased characters in the string are uppercase and\n",
      " |      there is at least one cased character in the string.\n",
      " |  \n",
      " |  join(self, iterable, /)\n",
      " |      Concatenate any number of strings.\n",
      " |      \n",
      " |      The string whose method is called is inserted in between each given string.\n",
      " |      The result is returned as a new string.\n",
      " |      \n",
      " |      Example: '.'.join(['ab', 'pq', 'rs']) -> 'ab.pq.rs'\n",
      " |  \n",
      " |  ljust(self, width, fillchar=' ', /)\n",
      " |      Return a left-justified string of length width.\n",
      " |      \n",
      " |      Padding is done using the specified fill character (default is a space).\n",
      " |  \n",
      " |  lower(self, /)\n",
      " |      Return a copy of the string converted to lowercase.\n",
      " |  \n",
      " |  lstrip(self, chars=None, /)\n",
      " |      Return a copy of the string with leading whitespace removed.\n",
      " |      \n",
      " |      If chars is given and not None, remove characters in chars instead.\n",
      " |  \n",
      " |  partition(self, sep, /)\n",
      " |      Partition the string into three parts using the given separator.\n",
      " |      \n",
      " |      This will search for the separator in the string.  If the separator is found,\n",
      " |      returns a 3-tuple containing the part before the separator, the separator\n",
      " |      itself, and the part after it.\n",
      " |      \n",
      " |      If the separator is not found, returns a 3-tuple containing the original string\n",
      " |      and two empty strings.\n",
      " |  \n",
      " |  replace(self, old, new, count=-1, /)\n",
      " |      Return a copy with all occurrences of substring old replaced by new.\n",
      " |      \n",
      " |        count\n",
      " |          Maximum number of occurrences to replace.\n",
      " |          -1 (the default value) means replace all occurrences.\n",
      " |      \n",
      " |      If the optional argument count is given, only the first count occurrences are\n",
      " |      replaced.\n",
      " |  \n",
      " |  rfind(...)\n",
      " |      S.rfind(sub[, start[, end]]) -> int\n",
      " |      \n",
      " |      Return the highest index in S where substring sub is found,\n",
      " |      such that sub is contained within S[start:end].  Optional\n",
      " |      arguments start and end are interpreted as in slice notation.\n",
      " |      \n",
      " |      Return -1 on failure.\n",
      " |  \n",
      " |  rindex(...)\n",
      " |      S.rindex(sub[, start[, end]]) -> int\n",
      " |      \n",
      " |      Return the highest index in S where substring sub is found,\n",
      " |      such that sub is contained within S[start:end].  Optional\n",
      " |      arguments start and end are interpreted as in slice notation.\n",
      " |      \n",
      " |      Raises ValueError when the substring is not found.\n",
      " |  \n",
      " |  rjust(self, width, fillchar=' ', /)\n",
      " |      Return a right-justified string of length width.\n",
      " |      \n",
      " |      Padding is done using the specified fill character (default is a space).\n",
      " |  \n",
      " |  rpartition(self, sep, /)\n",
      " |      Partition the string into three parts using the given separator.\n",
      " |      \n",
      " |      This will search for the separator in the string, starting at the end. If\n",
      " |      the separator is found, returns a 3-tuple containing the part before the\n",
      " |      separator, the separator itself, and the part after it.\n",
      " |      \n",
      " |      If the separator is not found, returns a 3-tuple containing two empty strings\n",
      " |      and the original string.\n",
      " |  \n",
      " |  rsplit(self, /, sep=None, maxsplit=-1)\n",
      " |      Return a list of the words in the string, using sep as the delimiter string.\n",
      " |      \n",
      " |        sep\n",
      " |          The delimiter according which to split the string.\n",
      " |          None (the default value) means split according to any whitespace,\n",
      " |          and discard empty strings from the result.\n",
      " |        maxsplit\n",
      " |          Maximum number of splits to do.\n",
      " |          -1 (the default value) means no limit.\n",
      " |      \n",
      " |      Splits are done starting at the end of the string and working to the front.\n",
      " |  \n",
      " |  rstrip(self, chars=None, /)\n",
      " |      Return a copy of the string with trailing whitespace removed.\n",
      " |      \n",
      " |      If chars is given and not None, remove characters in chars instead.\n",
      " |  \n",
      " |  split(self, /, sep=None, maxsplit=-1)\n",
      " |      Return a list of the words in the string, using sep as the delimiter string.\n",
      " |      \n",
      " |      sep\n",
      " |        The delimiter according which to split the string.\n",
      " |        None (the default value) means split according to any whitespace,\n",
      " |        and discard empty strings from the result.\n",
      " |      maxsplit\n",
      " |        Maximum number of splits to do.\n",
      " |        -1 (the default value) means no limit.\n",
      " |  \n",
      " |  splitlines(self, /, keepends=False)\n",
      " |      Return a list of the lines in the string, breaking at line boundaries.\n",
      " |      \n",
      " |      Line breaks are not included in the resulting list unless keepends is given and\n",
      " |      true.\n",
      " |  \n",
      " |  startswith(...)\n",
      " |      S.startswith(prefix[, start[, end]]) -> bool\n",
      " |      \n",
      " |      Return True if S starts with the specified prefix, False otherwise.\n",
      " |      With optional start, test S beginning at that position.\n",
      " |      With optional end, stop comparing S at that position.\n",
      " |      prefix can also be a tuple of strings to try.\n",
      " |  \n",
      " |  strip(self, chars=None, /)\n",
      " |      Return a copy of the string with leading and trailing whitespace removed.\n",
      " |      \n",
      " |      If chars is given and not None, remove characters in chars instead.\n",
      " |  \n",
      " |  swapcase(self, /)\n",
      " |      Convert uppercase characters to lowercase and lowercase characters to uppercase.\n",
      " |  \n",
      " |  title(self, /)\n",
      " |      Return a version of the string where each word is titlecased.\n",
      " |      \n",
      " |      More specifically, words start with uppercased characters and all remaining\n",
      " |      cased characters have lower case.\n",
      " |  \n",
      " |  translate(self, table, /)\n",
      " |      Replace each character in the string using the given translation table.\n",
      " |      \n",
      " |        table\n",
      " |          Translation table, which must be a mapping of Unicode ordinals to\n",
      " |          Unicode ordinals, strings, or None.\n",
      " |      \n",
      " |      The table must implement lookup/indexing via __getitem__, for instance a\n",
      " |      dictionary or list.  If this operation raises LookupError, the character is\n",
      " |      left untouched.  Characters mapped to None are deleted.\n",
      " |  \n",
      " |  upper(self, /)\n",
      " |      Return a copy of the string converted to uppercase.\n",
      " |  \n",
      " |  zfill(self, width, /)\n",
      " |      Pad a numeric string with zeros on the left, to fill a field of the given width.\n",
      " |      \n",
      " |      The string is never truncated.\n",
      " |  \n",
      " |  ----------------------------------------------------------------------\n",
      " |  Static methods defined here:\n",
      " |  \n",
      " |  __new__(*args, **kwargs) from builtins.type\n",
      " |      Create and return a new object.  See help(type) for accurate signature.\n",
      " |  \n",
      " |  maketrans(x, y=None, z=None, /)\n",
      " |      Return a translation table usable for str.translate().\n",
      " |      \n",
      " |      If there is only one argument, it must be a dictionary mapping Unicode\n",
      " |      ordinals (integers) or characters to Unicode ordinals, strings or None.\n",
      " |      Character keys will be then converted to ordinals.\n",
      " |      If there are two arguments, they must be strings of equal length, and\n",
      " |      in the resulting dictionary, each character in x will be mapped to the\n",
      " |      character at the same position in y. If there is a third argument, it\n",
      " |      must be a string, whose characters will be mapped to None in the result.\n",
      "\n"
     ]
    }
   ],
   "source": [
    "help(str)"
   ]
  },
  {
   "cell_type": "markdown",
   "metadata": {},
   "source": [
    "## Problem 1.4"
   ]
  },
  {
   "cell_type": "code",
   "execution_count": 3,
   "metadata": {},
   "outputs": [],
   "source": [
    "from collections import Counter\n",
    "import heapq\n",
    "\n"
   ]
  },
  {
   "cell_type": "code",
   "execution_count": 8,
   "metadata": {},
   "outputs": [],
   "source": [
    "d1 = Counter('stringg')"
   ]
  },
  {
   "cell_type": "code",
   "execution_count": 17,
   "metadata": {},
   "outputs": [],
   "source": [
    "l = list(d1.items())"
   ]
  },
  {
   "cell_type": "code",
   "execution_count": 18,
   "metadata": {},
   "outputs": [],
   "source": [
    "heapq.heapify(l)"
   ]
  },
  {
   "cell_type": "markdown",
   "metadata": {},
   "source": [
    "## Problem 4.1"
   ]
  },
  {
   "cell_type": "code",
   "execution_count": 45,
   "metadata": {},
   "outputs": [
    {
     "name": "stdout",
     "output_type": "stream",
     "text": [
      "Here\n"
     ]
    },
    {
     "data": {
      "text/plain": [
       "[0, 0, 1]"
      ]
     },
     "execution_count": 45,
     "metadata": {},
     "output_type": "execute_result"
    }
   ],
   "source": [
    "from typing import List\n",
    "def parity(nums : List[int]) -> List[int]:\n",
    "    '''\n",
    "    '''\n",
    "    \n",
    "    d1 = dict()\n",
    "    \n",
    "    for n in range(2**16):\n",
    "        num_bits = 0\n",
    "        x = n\n",
    "        while x:\n",
    "            num_bits += x & 1\n",
    "            x >>= 1\n",
    "        d1[n] = num_bits\n",
    "        \n",
    "    mask = 2**16 - 1\n",
    "    ret = []\n",
    "    print(\"Here\")\n",
    "    \n",
    "    for n in nums:\n",
    "        total = 0\n",
    "        while n:\n",
    "            bits = n & mask\n",
    "            total += d1[bits]\n",
    "            n >>= 16\n",
    "        ret.append(total & 1)\n",
    "    return ret\n",
    "            \n",
    "        \n",
    "parity([2139409809128, 12203298402984, 20193401928304])        \n",
    "        \n",
    "        \n",
    "        \n",
    "        \n",
    "    \n",
    "    "
   ]
  },
  {
   "cell_type": "markdown",
   "metadata": {},
   "source": [
    "## Problem 4.7"
   ]
  },
  {
   "cell_type": "code",
   "execution_count": 38,
   "metadata": {},
   "outputs": [],
   "source": [
    "def exponentiate(x: float, y: int) -> float:\n",
    "    '''\n",
    "    '''\n",
    "    if not x or not y:\n",
    "        return None\n",
    "    if y < 0:\n",
    "        y = abs(y)\n",
    "        x = 1 / x\n",
    "    if y == 0:\n",
    "        return 1\n",
    "    if y == 1:\n",
    "        return x\n",
    "    \n",
    "    y_lower = y//2 + y%2\n",
    "    y_upper = y//2\n",
    "    return exponentiate(x, y_lower) * exponentiate(x, y_upper)\n",
    "\n"
   ]
  },
  {
   "cell_type": "code",
   "execution_count": 39,
   "metadata": {},
   "outputs": [
    {
     "data": {
      "text/plain": [
       "0.25"
      ]
     },
     "execution_count": 39,
     "metadata": {},
     "output_type": "execute_result"
    }
   ],
   "source": [
    "exponentiate(4, -1)"
   ]
  },
  {
   "cell_type": "code",
   "execution_count": 40,
   "metadata": {},
   "outputs": [
    {
     "data": {
      "text/plain": [
       "1.555753819465286e+40"
      ]
     },
     "execution_count": 40,
     "metadata": {},
     "output_type": "execute_result"
    }
   ],
   "source": [
    "exponentiate(2.5, 101)"
   ]
  },
  {
   "cell_type": "code",
   "execution_count": 43,
   "metadata": {},
   "outputs": [],
   "source": [
    "exponentiate(None, [])"
   ]
  },
  {
   "cell_type": "markdown",
   "metadata": {},
   "source": [
    "Runtime of this particular recursive solution is $O(log(y))$"
   ]
  },
  {
   "cell_type": "markdown",
   "metadata": {},
   "source": [
    "## Problem 5.2"
   ]
  },
  {
   "cell_type": "code",
   "execution_count": 61,
   "metadata": {},
   "outputs": [],
   "source": [
    "def increment(nums : List[int]):\n",
    "    \n",
    "    if nums[-1] < 9:\n",
    "        if len(nums) == 1:\n",
    "            return [nums[0] + 1]\n",
    "#         nums[:-1].append(nums[-1] + 1)\n",
    "        return nums[:-1] + [nums[-1] + 1]\n",
    "    else:\n",
    "        if len(nums) == 1:\n",
    "            return [1, 0]\n",
    "#         print(nums)\n",
    "#         ret  = \n",
    "        return increment(nums[:-1]) + [0]"
   ]
  },
  {
   "cell_type": "code",
   "execution_count": 73,
   "metadata": {},
   "outputs": [
    {
     "data": {
      "text/plain": [
       "[9, 9, 9, 9, 9, 9, 3, 2, 3, 4, 2, 3, 3, 0, 0, 0, 0, 0, 0, 0]"
      ]
     },
     "execution_count": 73,
     "metadata": {},
     "output_type": "execute_result"
    }
   ],
   "source": [
    "test1 = [1, 9, 9]\n",
    "\n",
    "increment([3,2,3,4,2,3,2,9,9,9,9,9,9,9]*430)[-20:]"
   ]
  },
  {
   "cell_type": "markdown",
   "metadata": {},
   "source": [
    "## Problem 5.6"
   ]
  },
  {
   "cell_type": "code",
   "execution_count": 74,
   "metadata": {},
   "outputs": [],
   "source": [
    "def max_profit(prices : List[int]) :\n",
    "    '''\n",
    "    '''\n",
    "    \n",
    "    \n",
    "    curr_prof = 0;\n",
    "    \n",
    "    curr_min = float('inf')\n",
    "    \n",
    "    for p in prices:\n",
    "        if p < curr_min:\n",
    "            curr_min = p\n",
    "        if p - curr_min > curr_prof:\n",
    "            curr_prof = p - curr_min\n",
    "    return curr_prof"
   ]
  },
  {
   "cell_type": "code",
   "execution_count": 76,
   "metadata": {},
   "outputs": [
    {
     "data": {
      "text/plain": [
       "30"
      ]
     },
     "execution_count": 76,
     "metadata": {},
     "output_type": "execute_result"
    }
   ],
   "source": [
    "max_profit([310,315,275,295,260,270,290,230,255,250])"
   ]
  },
  {
   "cell_type": "markdown",
   "metadata": {},
   "source": [
    "## Problem 5.12"
   ]
  },
  {
   "cell_type": "code",
   "execution_count": 98,
   "metadata": {},
   "outputs": [],
   "source": [
    "import random\n",
    "\n",
    "def random_subset(users : List[int], size : int) :\n",
    "    \n",
    "    r = random.randint(0, len(users) - 1)\n",
    "#     print(list(users[r]))\n",
    "    if size == 1:\n",
    "        return [users[r]]\n",
    "    else:\n",
    "        return [users.pop(r)] + random_subset(users, size - 1)\n",
    "    \n",
    "    "
   ]
  },
  {
   "cell_type": "code",
   "execution_count": 159,
   "metadata": {},
   "outputs": [
    {
     "data": {
      "text/plain": [
       "[4, 2, 1, 3]"
      ]
     },
     "execution_count": 159,
     "metadata": {},
     "output_type": "execute_result"
    }
   ],
   "source": [
    "random_subset([1,2,3,4], 4)"
   ]
  },
  {
   "cell_type": "markdown",
   "metadata": {},
   "source": [
    "## Problem 5.18"
   ]
  },
  {
   "cell_type": "code",
   "execution_count": 171,
   "metadata": {},
   "outputs": [],
   "source": [
    "def spiral_order(nums : List[List[int]]) :\n",
    "    \n",
    "    \n",
    "    def clockwise_read(nums_1 : List[List[int]], start = 0):\n",
    "        out = []\n",
    "        n = len(nums_1)\n",
    "        \n",
    "        if n - start == 1:\n",
    "            out.append(nums_1[0][0])\n",
    "            return out\n",
    "        \n",
    "        for i in range(start, n - start):\n",
    "            out.append(nums_1[start][i])\n",
    "        for i in range(start + 1, n - start):\n",
    "            out.append(nums_1[i][n - start - 1])\n",
    "        for i in range(n - start  - 2, start - 1, -1):\n",
    "            out.append(nums_1[n - start - 1][i])\n",
    "        for i in range(n - start - 2, start, -1):\n",
    "            out.append(nums_1[i][start])\n",
    "        if n - start == 2:\n",
    "            return out\n",
    "        return out + clockwise_read(nums_1, start + 1)\n",
    "    \n",
    "    return clockwise_read(nums, 0)\n",
    "            \n",
    "            "
   ]
  },
  {
   "cell_type": "code",
   "execution_count": 175,
   "metadata": {
    "collapsed": true,
    "jupyter": {
     "outputs_hidden": true
    }
   },
   "outputs": [
    {
     "data": {
      "text/plain": [
       "[1,\n",
       " 2,\n",
       " 3,\n",
       " 4,\n",
       " 5,\n",
       " 8,\n",
       " 11,\n",
       " 15,\n",
       " 5,\n",
       " 4,\n",
       " 3,\n",
       " 2,\n",
       " 1,\n",
       " 11,\n",
       " 7,\n",
       " 4,\n",
       " 5,\n",
       " 6,\n",
       " 7,\n",
       " 10,\n",
       " 14,\n",
       " 13,\n",
       " 12,\n",
       " 8,\n",
       " 9]"
      ]
     },
     "execution_count": 175,
     "metadata": {},
     "output_type": "execute_result"
    }
   ],
   "source": [
    "test = [[1, 2, 3, 4, 5] \\\n",
    "        , [4, 5, 6, 7, 8],\n",
    "       [7, 8, 9, 10, 11],\n",
    "       [11, 12, 13, 14, 15],\n",
    "       [1, 2, 3, 4, 5]]\n",
    "\n",
    "spiral_order(test)"
   ]
  },
  {
   "cell_type": "markdown",
   "metadata": {},
   "source": [
    "## Problem 6.1"
   ]
  },
  {
   "cell_type": "code",
   "execution_count": 176,
   "metadata": {},
   "outputs": [],
   "source": [
    "def atoi (string : str) : \n",
    "    n = len(string)\n",
    "    out = 0\n",
    "    d1 = {'0': 0, '1' : 1, '2' : 2, '3' : 3, '4' : 4, '5' : 5, '6' : 6, '7' : 7, '8' : 8, '9' : 9}\n",
    "    for i in range(n):\n",
    "        out += pow(10, n - i - 1) * d1[string[i]]\n",
    "    return out\n",
    "        "
   ]
  },
  {
   "cell_type": "code",
   "execution_count": 180,
   "metadata": {},
   "outputs": [
    {
     "data": {
      "text/plain": [
       "0"
      ]
     },
     "execution_count": 180,
     "metadata": {},
     "output_type": "execute_result"
    }
   ],
   "source": [
    "atoi('')"
   ]
  },
  {
   "cell_type": "code",
   "execution_count": 212,
   "metadata": {},
   "outputs": [],
   "source": [
    "def itoa(num : int) :\n",
    "    d1 = {'0': 0, '1' : 1, '2' : 2, '3' : 3, '4' : 4, '5' : 5, '6' : 6, '7' : 7, '8' : 8, '9' : 9}\n",
    "    d2 = dict()\n",
    "    for k, v in d1.items():\n",
    "        d2[v] = k\n",
    "    s_list = []\n",
    "    exp = 1\n",
    "    while num:\n",
    "        \n",
    "        rem = num % 10\n",
    "        print(rem, num)\n",
    "        s_list.append(d2[rem])\n",
    "        num  -= rem\n",
    "        num //= 10\n",
    "        exp += 1\n",
    "    return ''.join(reversed(s_list))\n",
    "        \n",
    "\n",
    "    "
   ]
  },
  {
   "cell_type": "code",
   "execution_count": 213,
   "metadata": {},
   "outputs": [
    {
     "name": "stdout",
     "output_type": "stream",
     "text": [
      "9 9992234234233423499\n",
      "9 999223423423342349\n",
      "4 99922342342334234\n",
      "3 9992234234233423\n",
      "2 999223423423342\n",
      "4 99922342342334\n",
      "3 9992234234233\n",
      "3 999223423423\n",
      "2 99922342342\n",
      "4 9992234234\n",
      "3 999223423\n",
      "2 99922342\n",
      "4 9992234\n",
      "3 999223\n",
      "2 99922\n",
      "2 9992\n",
      "9 999\n",
      "9 99\n",
      "9 9\n"
     ]
    },
    {
     "data": {
      "text/plain": [
       "'9992234234233423499'"
      ]
     },
     "execution_count": 213,
     "metadata": {},
     "output_type": "execute_result"
    }
   ],
   "source": [
    "vitoa(9992234234233423499)"
   ]
  },
  {
   "cell_type": "code",
   "execution_count": 243,
   "metadata": {},
   "outputs": [],
   "source": [
    "class BSTNode:\n",
    "    def __init__(self , data=None, left=None, right=None):\n",
    "        self.data, self.left, self.right = data, left, right\n",
    "    def insert(self, val=None):\n",
    "        if val <= self.data:\n",
    "            if self.left:\n",
    "                self.left.insert(val)\n",
    "            else:\n",
    "                self.left = BSTNode(val)\n",
    "        elif val > self.data:\n",
    "            if self.right:\n",
    "                self.right.insert(val)\n",
    "            else:\n",
    "                self.right = BSTNode(val)\n",
    "        \n",
    "            \n",
    "        \n",
    "            "
   ]
  },
  {
   "cell_type": "code",
   "execution_count": 251,
   "metadata": {},
   "outputs": [],
   "source": [
    "def verifyBinTree(head : BSTNode) :\n",
    "    \n",
    "    if not head:\n",
    "        return False\n",
    "    if not head.right and head.left:\n",
    "        return True\n",
    "    \n",
    "    def inOrder(head : BSTNode) :\n",
    "        if head.left:\n",
    "            yield from inOrder(head.left)\n",
    "        yield head.data\n",
    "        if head.right:\n",
    "            yield from inOrder(head.right)\n",
    "    \n",
    "    in_order = list(inOrder(head))\n",
    "    \n",
    "    curr = in_order[0]\n",
    "    print(in_order)\n",
    "    for n in in_order[1:]:\n",
    "        if n < curr:\n",
    "            return False\n",
    "        else:\n",
    "            curr = n\n",
    "    return True\n",
    "\n",
    "from collections import deque\n",
    "\n",
    "def levelOrder(head : BSTNode):\n",
    "    \n",
    "    q = deque()\n",
    "    \n",
    "    q.append(head)\n",
    "    \n",
    "    while q:\n",
    "        \n",
    "        n = len(q)\n",
    "        \n",
    "        for i in range(n):\n",
    "            curr = q.popleft()\n",
    "            print(curr.data, end = ' ')\n",
    "            if curr.left:\n",
    "                q.append(curr.left)\n",
    "            if curr.right:\n",
    "                q.append(curr.right)\n",
    "    \n",
    "        print()\n",
    "    "
   ]
  },
  {
   "cell_type": "code",
   "execution_count": 257,
   "metadata": {},
   "outputs": [
    {
     "name": "stdout",
     "output_type": "stream",
     "text": [
      "3 \n",
      "1 5 \n",
      "7 \n",
      "9 \n",
      "19 \n",
      "7 43 \n",
      "3 11 23 47 \n",
      "2 5 17 37 53 \n",
      "13 29 41 \n",
      "31 \n"
     ]
    }
   ],
   "source": [
    "\n",
    "\n",
    "head = BSTNode(3)\n",
    "head.insert(5)\n",
    "head.insert(7)\n",
    "head.insert(9)\n",
    "head.insert(1)\n",
    "levelOrder(head)\n",
    "\n",
    "\n",
    "head1 = BSTNode(19)\n",
    "head1.insert(7)\n",
    "head1.insert(43)\n",
    "head1.insert(3)\n",
    "head1.insert(11)\n",
    "head1.insert(23)\n",
    "head1.insert(47)\n",
    "head1.insert(2)\n",
    "head1.insert(5)\n",
    "head1.insert(17)\n",
    "head1.insert(37)\n",
    "head1.insert(53)\n",
    "head1.insert(13)\n",
    "head1.insert(29)\n",
    "head1.insert(41)\n",
    "head1.insert(31)\n",
    "\n",
    "levelOrder(head1)\n"
   ]
  },
  {
   "cell_type": "code",
   "execution_count": 258,
   "metadata": {},
   "outputs": [
    {
     "name": "stdout",
     "output_type": "stream",
     "text": [
      "[1, 3, 5, 7, 9]\n",
      "[2, 3, 5, 7, 11, 13, 17, 19, 23, 29, 31, 37, 41, 43, 47, 53]\n"
     ]
    },
    {
     "data": {
      "text/plain": [
       "True"
      ]
     },
     "execution_count": 258,
     "metadata": {},
     "output_type": "execute_result"
    }
   ],
   "source": [
    "verifyBinTree(head)\n",
    "verifyBinTree(head1)"
   ]
  },
  {
   "cell_type": "markdown",
   "metadata": {},
   "source": [
    "## Problem 14.2"
   ]
  },
  {
   "cell_type": "code",
   "execution_count": 272,
   "metadata": {},
   "outputs": [],
   "source": [
    "import heapq\n",
    "\n",
    "def findNearestKey(head : BSTNode, key : int) :\n",
    "    if not head:\n",
    "        return False\n",
    "    \n",
    "    curr = head\n",
    "    heap = []\n",
    "    heapq.heapify(heap)\n",
    "    \n",
    "    while True:       \n",
    "        if curr.data > key:\n",
    "            heapq.heappush(heap, (abs(key - curr.data), curr.data))\n",
    "            if curr.left:\n",
    "                curr = curr.left\n",
    "            else:\n",
    "                return heapq.heappop(heap)[1]\n",
    "        elif curr.data <= key:\n",
    "#             heapq.heappush(heap, (abs(key - curr.data), curr.data))\n",
    "            if curr.right:\n",
    "                curr = curr.right\n",
    "            else:\n",
    "                return heapq.heappop(heap)[1]\n",
    "            \n",
    "#     return heapq.heappop(heap)[1]\n",
    "\n",
    "            "
   ]
  },
  {
   "cell_type": "code",
   "execution_count": 273,
   "metadata": {},
   "outputs": [
    {
     "data": {
      "text/plain": [
       "29"
      ]
     },
     "execution_count": 273,
     "metadata": {},
     "output_type": "execute_result"
    }
   ],
   "source": [
    "findNearestKey(head1, 23)"
   ]
  },
  {
   "cell_type": "markdown",
   "metadata": {},
   "source": [
    "## Problem 14.3"
   ]
  },
  {
   "cell_type": "code",
   "execution_count": null,
   "metadata": {},
   "outputs": [],
   "source": []
  },
  {
   "cell_type": "markdown",
   "metadata": {},
   "source": [
    "## Problem 16.1"
   ]
  },
  {
   "cell_type": "code",
   "execution_count": 4,
   "metadata": {},
   "outputs": [],
   "source": [
    "def towerOfHanoi(n, first, middle, last):\n",
    "    if n == 1:\n",
    "        last.insert(0, first.pop(0))\n",
    "        print(n, first, middle, last)\n",
    "    else:\n",
    "        towerOfHanoi(n - 1, first, last, middle)\n",
    "        last.insert(0, first.pop(0))\n",
    "        print(n, first, middle, last)\n",
    "        towerOfHanoi(n - 1, middle, first, last)\n",
    "#         print(first, middle, last) middle, last"
   ]
  },
  {
   "cell_type": "code",
   "execution_count": 5,
   "metadata": {
    "collapsed": true,
    "jupyter": {
     "outputs_hidden": true
    }
   },
   "outputs": [
    {
     "name": "stdout",
     "output_type": "stream",
     "text": [
      "1 [2, 3, 4, 5, 6, 7, 8] [] [1]\n",
      "2 [3, 4, 5, 6, 7, 8] [1] [2]\n",
      "1 [] [3, 4, 5, 6, 7, 8] [1, 2]\n",
      "3 [4, 5, 6, 7, 8] [1, 2] [3]\n",
      "1 [2] [3] [1, 4, 5, 6, 7, 8]\n",
      "2 [] [1, 4, 5, 6, 7, 8] [2, 3]\n",
      "1 [4, 5, 6, 7, 8] [] [1, 2, 3]\n",
      "4 [5, 6, 7, 8] [1, 2, 3] [4]\n",
      "1 [2, 3] [5, 6, 7, 8] [1, 4]\n",
      "2 [3] [1, 4] [2, 5, 6, 7, 8]\n",
      "1 [4] [3] [1, 2, 5, 6, 7, 8]\n",
      "3 [] [1, 2, 5, 6, 7, 8] [3, 4]\n",
      "1 [2, 5, 6, 7, 8] [3, 4] [1]\n",
      "2 [5, 6, 7, 8] [1] [2, 3, 4]\n",
      "1 [] [5, 6, 7, 8] [1, 2, 3, 4]\n",
      "5 [6, 7, 8] [1, 2, 3, 4] [5]\n",
      "1 [2, 3, 4] [5] [1, 6, 7, 8]\n",
      "2 [3, 4] [1, 6, 7, 8] [2, 5]\n",
      "1 [6, 7, 8] [3, 4] [1, 2, 5]\n",
      "3 [4] [1, 2, 5] [3, 6, 7, 8]\n",
      "1 [2, 5] [3, 6, 7, 8] [1, 4]\n",
      "2 [5] [1, 4] [2, 3, 6, 7, 8]\n",
      "1 [4] [5] [1, 2, 3, 6, 7, 8]\n",
      "4 [] [1, 2, 3, 6, 7, 8] [4, 5]\n",
      "1 [2, 3, 6, 7, 8] [] [1, 4, 5]\n",
      "2 [3, 6, 7, 8] [1, 4, 5] [2]\n",
      "1 [4, 5] [3, 6, 7, 8] [1, 2]\n",
      "3 [6, 7, 8] [1, 2] [3, 4, 5]\n",
      "1 [2] [3, 4, 5] [1, 6, 7, 8]\n",
      "2 [] [1, 6, 7, 8] [2, 3, 4, 5]\n",
      "1 [6, 7, 8] [] [1, 2, 3, 4, 5]\n",
      "6 [7, 8] [1, 2, 3, 4, 5] [6]\n",
      "1 [2, 3, 4, 5] [7, 8] [1, 6]\n",
      "2 [3, 4, 5] [1, 6] [2, 7, 8]\n",
      "1 [6] [3, 4, 5] [1, 2, 7, 8]\n",
      "3 [4, 5] [1, 2, 7, 8] [3, 6]\n",
      "1 [2, 7, 8] [3, 6] [1, 4, 5]\n",
      "2 [7, 8] [1, 4, 5] [2, 3, 6]\n",
      "1 [4, 5] [7, 8] [1, 2, 3, 6]\n",
      "4 [5] [1, 2, 3, 6] [4, 7, 8]\n",
      "1 [2, 3, 6] [5] [1, 4, 7, 8]\n",
      "2 [3, 6] [1, 4, 7, 8] [2, 5]\n",
      "1 [4, 7, 8] [3, 6] [1, 2, 5]\n",
      "3 [6] [1, 2, 5] [3, 4, 7, 8]\n",
      "1 [2, 5] [3, 4, 7, 8] [1, 6]\n",
      "2 [5] [1, 6] [2, 3, 4, 7, 8]\n",
      "1 [6] [5] [1, 2, 3, 4, 7, 8]\n",
      "5 [] [1, 2, 3, 4, 7, 8] [5, 6]\n",
      "1 [2, 3, 4, 7, 8] [5, 6] [1]\n",
      "2 [3, 4, 7, 8] [1] [2, 5, 6]\n",
      "1 [] [3, 4, 7, 8] [1, 2, 5, 6]\n",
      "3 [4, 7, 8] [1, 2, 5, 6] [3]\n",
      "1 [2, 5, 6] [3] [1, 4, 7, 8]\n",
      "2 [5, 6] [1, 4, 7, 8] [2, 3]\n",
      "1 [4, 7, 8] [5, 6] [1, 2, 3]\n",
      "4 [7, 8] [1, 2, 3] [4, 5, 6]\n",
      "1 [2, 3] [7, 8] [1, 4, 5, 6]\n",
      "2 [3] [1, 4, 5, 6] [2, 7, 8]\n",
      "1 [4, 5, 6] [3] [1, 2, 7, 8]\n",
      "3 [] [1, 2, 7, 8] [3, 4, 5, 6]\n",
      "1 [2, 7, 8] [3, 4, 5, 6] [1]\n",
      "2 [7, 8] [1] [2, 3, 4, 5, 6]\n",
      "1 [] [7, 8] [1, 2, 3, 4, 5, 6]\n",
      "7 [8] [1, 2, 3, 4, 5, 6] [7]\n",
      "1 [2, 3, 4, 5, 6] [7] [1, 8]\n",
      "2 [3, 4, 5, 6] [1, 8] [2, 7]\n",
      "1 [8] [3, 4, 5, 6] [1, 2, 7]\n",
      "3 [4, 5, 6] [1, 2, 7] [3, 8]\n",
      "1 [2, 7] [3, 8] [1, 4, 5, 6]\n",
      "2 [7] [1, 4, 5, 6] [2, 3, 8]\n",
      "1 [4, 5, 6] [7] [1, 2, 3, 8]\n",
      "4 [5, 6] [1, 2, 3, 8] [4, 7]\n",
      "1 [2, 3, 8] [5, 6] [1, 4, 7]\n",
      "2 [3, 8] [1, 4, 7] [2, 5, 6]\n",
      "1 [4, 7] [3, 8] [1, 2, 5, 6]\n",
      "3 [8] [1, 2, 5, 6] [3, 4, 7]\n",
      "1 [2, 5, 6] [3, 4, 7] [1, 8]\n",
      "2 [5, 6] [1, 8] [2, 3, 4, 7]\n",
      "1 [8] [5, 6] [1, 2, 3, 4, 7]\n",
      "5 [6] [1, 2, 3, 4, 7] [5, 8]\n",
      "1 [2, 3, 4, 7] [5, 8] [1, 6]\n",
      "2 [3, 4, 7] [1, 6] [2, 5, 8]\n",
      "1 [6] [3, 4, 7] [1, 2, 5, 8]\n",
      "3 [4, 7] [1, 2, 5, 8] [3, 6]\n",
      "1 [2, 5, 8] [3, 6] [1, 4, 7]\n",
      "2 [5, 8] [1, 4, 7] [2, 3, 6]\n",
      "1 [4, 7] [5, 8] [1, 2, 3, 6]\n",
      "4 [7] [1, 2, 3, 6] [4, 5, 8]\n",
      "1 [2, 3, 6] [7] [1, 4, 5, 8]\n",
      "2 [3, 6] [1, 4, 5, 8] [2, 7]\n",
      "1 [4, 5, 8] [3, 6] [1, 2, 7]\n",
      "3 [6] [1, 2, 7] [3, 4, 5, 8]\n",
      "1 [2, 7] [3, 4, 5, 8] [1, 6]\n",
      "2 [7] [1, 6] [2, 3, 4, 5, 8]\n",
      "1 [6] [7] [1, 2, 3, 4, 5, 8]\n",
      "6 [] [1, 2, 3, 4, 5, 8] [6, 7]\n",
      "1 [2, 3, 4, 5, 8] [] [1, 6, 7]\n",
      "2 [3, 4, 5, 8] [1, 6, 7] [2]\n",
      "1 [6, 7] [3, 4, 5, 8] [1, 2]\n",
      "3 [4, 5, 8] [1, 2] [3, 6, 7]\n",
      "1 [2] [3, 6, 7] [1, 4, 5, 8]\n",
      "2 [] [1, 4, 5, 8] [2, 3, 6, 7]\n",
      "1 [4, 5, 8] [] [1, 2, 3, 6, 7]\n",
      "4 [5, 8] [1, 2, 3, 6, 7] [4]\n",
      "1 [2, 3, 6, 7] [5, 8] [1, 4]\n",
      "2 [3, 6, 7] [1, 4] [2, 5, 8]\n",
      "1 [4] [3, 6, 7] [1, 2, 5, 8]\n",
      "3 [6, 7] [1, 2, 5, 8] [3, 4]\n",
      "1 [2, 5, 8] [3, 4] [1, 6, 7]\n",
      "2 [5, 8] [1, 6, 7] [2, 3, 4]\n",
      "1 [6, 7] [5, 8] [1, 2, 3, 4]\n",
      "5 [8] [1, 2, 3, 4] [5, 6, 7]\n",
      "1 [2, 3, 4] [5, 6, 7] [1, 8]\n",
      "2 [3, 4] [1, 8] [2, 5, 6, 7]\n",
      "1 [8] [3, 4] [1, 2, 5, 6, 7]\n",
      "3 [4] [1, 2, 5, 6, 7] [3, 8]\n",
      "1 [2, 5, 6, 7] [3, 8] [1, 4]\n",
      "2 [5, 6, 7] [1, 4] [2, 3, 8]\n",
      "1 [4] [5, 6, 7] [1, 2, 3, 8]\n",
      "4 [] [1, 2, 3, 8] [4, 5, 6, 7]\n",
      "1 [2, 3, 8] [] [1, 4, 5, 6, 7]\n",
      "2 [3, 8] [1, 4, 5, 6, 7] [2]\n",
      "1 [4, 5, 6, 7] [3, 8] [1, 2]\n",
      "3 [8] [1, 2] [3, 4, 5, 6, 7]\n",
      "1 [2] [3, 4, 5, 6, 7] [1, 8]\n",
      "2 [] [1, 8] [2, 3, 4, 5, 6, 7]\n",
      "1 [8] [] [1, 2, 3, 4, 5, 6, 7]\n",
      "8 [] [1, 2, 3, 4, 5, 6, 7] [8]\n",
      "1 [2, 3, 4, 5, 6, 7] [] [1, 8]\n",
      "2 [3, 4, 5, 6, 7] [1, 8] [2]\n",
      "1 [8] [3, 4, 5, 6, 7] [1, 2]\n",
      "3 [4, 5, 6, 7] [1, 2] [3, 8]\n",
      "1 [2] [3, 8] [1, 4, 5, 6, 7]\n",
      "2 [] [1, 4, 5, 6, 7] [2, 3, 8]\n",
      "1 [4, 5, 6, 7] [] [1, 2, 3, 8]\n",
      "4 [5, 6, 7] [1, 2, 3, 8] [4]\n",
      "1 [2, 3, 8] [5, 6, 7] [1, 4]\n",
      "2 [3, 8] [1, 4] [2, 5, 6, 7]\n",
      "1 [4] [3, 8] [1, 2, 5, 6, 7]\n",
      "3 [8] [1, 2, 5, 6, 7] [3, 4]\n",
      "1 [2, 5, 6, 7] [3, 4] [1, 8]\n",
      "2 [5, 6, 7] [1, 8] [2, 3, 4]\n",
      "1 [8] [5, 6, 7] [1, 2, 3, 4]\n",
      "5 [6, 7] [1, 2, 3, 4] [5, 8]\n",
      "1 [2, 3, 4] [5, 8] [1, 6, 7]\n",
      "2 [3, 4] [1, 6, 7] [2, 5, 8]\n",
      "1 [6, 7] [3, 4] [1, 2, 5, 8]\n",
      "3 [4] [1, 2, 5, 8] [3, 6, 7]\n",
      "1 [2, 5, 8] [3, 6, 7] [1, 4]\n",
      "2 [5, 8] [1, 4] [2, 3, 6, 7]\n",
      "1 [4] [5, 8] [1, 2, 3, 6, 7]\n",
      "4 [] [1, 2, 3, 6, 7] [4, 5, 8]\n",
      "1 [2, 3, 6, 7] [] [1, 4, 5, 8]\n",
      "2 [3, 6, 7] [1, 4, 5, 8] [2]\n",
      "1 [4, 5, 8] [3, 6, 7] [1, 2]\n",
      "3 [6, 7] [1, 2] [3, 4, 5, 8]\n",
      "1 [2] [3, 4, 5, 8] [1, 6, 7]\n",
      "2 [] [1, 6, 7] [2, 3, 4, 5, 8]\n",
      "1 [6, 7] [] [1, 2, 3, 4, 5, 8]\n",
      "6 [7] [1, 2, 3, 4, 5, 8] [6]\n",
      "1 [2, 3, 4, 5, 8] [7] [1, 6]\n",
      "2 [3, 4, 5, 8] [1, 6] [2, 7]\n",
      "1 [6] [3, 4, 5, 8] [1, 2, 7]\n",
      "3 [4, 5, 8] [1, 2, 7] [3, 6]\n",
      "1 [2, 7] [3, 6] [1, 4, 5, 8]\n",
      "2 [7] [1, 4, 5, 8] [2, 3, 6]\n",
      "1 [4, 5, 8] [7] [1, 2, 3, 6]\n",
      "4 [5, 8] [1, 2, 3, 6] [4, 7]\n",
      "1 [2, 3, 6] [5, 8] [1, 4, 7]\n",
      "2 [3, 6] [1, 4, 7] [2, 5, 8]\n",
      "1 [4, 7] [3, 6] [1, 2, 5, 8]\n",
      "3 [6] [1, 2, 5, 8] [3, 4, 7]\n",
      "1 [2, 5, 8] [3, 4, 7] [1, 6]\n",
      "2 [5, 8] [1, 6] [2, 3, 4, 7]\n",
      "1 [6] [5, 8] [1, 2, 3, 4, 7]\n",
      "5 [8] [1, 2, 3, 4, 7] [5, 6]\n",
      "1 [2, 3, 4, 7] [5, 6] [1, 8]\n",
      "2 [3, 4, 7] [1, 8] [2, 5, 6]\n",
      "1 [8] [3, 4, 7] [1, 2, 5, 6]\n",
      "3 [4, 7] [1, 2, 5, 6] [3, 8]\n",
      "1 [2, 5, 6] [3, 8] [1, 4, 7]\n",
      "2 [5, 6] [1, 4, 7] [2, 3, 8]\n",
      "1 [4, 7] [5, 6] [1, 2, 3, 8]\n",
      "4 [7] [1, 2, 3, 8] [4, 5, 6]\n",
      "1 [2, 3, 8] [7] [1, 4, 5, 6]\n",
      "2 [3, 8] [1, 4, 5, 6] [2, 7]\n",
      "1 [4, 5, 6] [3, 8] [1, 2, 7]\n",
      "3 [8] [1, 2, 7] [3, 4, 5, 6]\n",
      "1 [2, 7] [3, 4, 5, 6] [1, 8]\n",
      "2 [7] [1, 8] [2, 3, 4, 5, 6]\n",
      "1 [8] [7] [1, 2, 3, 4, 5, 6]\n",
      "7 [] [1, 2, 3, 4, 5, 6] [7, 8]\n",
      "1 [2, 3, 4, 5, 6] [7, 8] [1]\n",
      "2 [3, 4, 5, 6] [1] [2, 7, 8]\n",
      "1 [] [3, 4, 5, 6] [1, 2, 7, 8]\n",
      "3 [4, 5, 6] [1, 2, 7, 8] [3]\n",
      "1 [2, 7, 8] [3] [1, 4, 5, 6]\n",
      "2 [7, 8] [1, 4, 5, 6] [2, 3]\n",
      "1 [4, 5, 6] [7, 8] [1, 2, 3]\n",
      "4 [5, 6] [1, 2, 3] [4, 7, 8]\n",
      "1 [2, 3] [5, 6] [1, 4, 7, 8]\n",
      "2 [3] [1, 4, 7, 8] [2, 5, 6]\n",
      "1 [4, 7, 8] [3] [1, 2, 5, 6]\n",
      "3 [] [1, 2, 5, 6] [3, 4, 7, 8]\n",
      "1 [2, 5, 6] [3, 4, 7, 8] [1]\n",
      "2 [5, 6] [1] [2, 3, 4, 7, 8]\n",
      "1 [] [5, 6] [1, 2, 3, 4, 7, 8]\n",
      "5 [6] [1, 2, 3, 4, 7, 8] [5]\n",
      "1 [2, 3, 4, 7, 8] [5] [1, 6]\n",
      "2 [3, 4, 7, 8] [1, 6] [2, 5]\n",
      "1 [6] [3, 4, 7, 8] [1, 2, 5]\n",
      "3 [4, 7, 8] [1, 2, 5] [3, 6]\n",
      "1 [2, 5] [3, 6] [1, 4, 7, 8]\n",
      "2 [5] [1, 4, 7, 8] [2, 3, 6]\n",
      "1 [4, 7, 8] [5] [1, 2, 3, 6]\n",
      "4 [7, 8] [1, 2, 3, 6] [4, 5]\n",
      "1 [2, 3, 6] [7, 8] [1, 4, 5]\n",
      "2 [3, 6] [1, 4, 5] [2, 7, 8]\n",
      "1 [4, 5] [3, 6] [1, 2, 7, 8]\n",
      "3 [6] [1, 2, 7, 8] [3, 4, 5]\n",
      "1 [2, 7, 8] [3, 4, 5] [1, 6]\n",
      "2 [7, 8] [1, 6] [2, 3, 4, 5]\n",
      "1 [6] [7, 8] [1, 2, 3, 4, 5]\n",
      "6 [] [1, 2, 3, 4, 5] [6, 7, 8]\n",
      "1 [2, 3, 4, 5] [] [1, 6, 7, 8]\n",
      "2 [3, 4, 5] [1, 6, 7, 8] [2]\n",
      "1 [6, 7, 8] [3, 4, 5] [1, 2]\n",
      "3 [4, 5] [1, 2] [3, 6, 7, 8]\n",
      "1 [2] [3, 6, 7, 8] [1, 4, 5]\n",
      "2 [] [1, 4, 5] [2, 3, 6, 7, 8]\n",
      "1 [4, 5] [] [1, 2, 3, 6, 7, 8]\n",
      "4 [5] [1, 2, 3, 6, 7, 8] [4]\n",
      "1 [2, 3, 6, 7, 8] [5] [1, 4]\n",
      "2 [3, 6, 7, 8] [1, 4] [2, 5]\n",
      "1 [4] [3, 6, 7, 8] [1, 2, 5]\n",
      "3 [6, 7, 8] [1, 2, 5] [3, 4]\n",
      "1 [2, 5] [3, 4] [1, 6, 7, 8]\n",
      "2 [5] [1, 6, 7, 8] [2, 3, 4]\n",
      "1 [6, 7, 8] [5] [1, 2, 3, 4]\n",
      "5 [] [1, 2, 3, 4] [5, 6, 7, 8]\n",
      "1 [2, 3, 4] [5, 6, 7, 8] [1]\n",
      "2 [3, 4] [1] [2, 5, 6, 7, 8]\n",
      "1 [] [3, 4] [1, 2, 5, 6, 7, 8]\n",
      "3 [4] [1, 2, 5, 6, 7, 8] [3]\n",
      "1 [2, 5, 6, 7, 8] [3] [1, 4]\n",
      "2 [5, 6, 7, 8] [1, 4] [2, 3]\n",
      "1 [4] [5, 6, 7, 8] [1, 2, 3]\n",
      "4 [] [1, 2, 3] [4, 5, 6, 7, 8]\n",
      "1 [2, 3] [] [1, 4, 5, 6, 7, 8]\n",
      "2 [3] [1, 4, 5, 6, 7, 8] [2]\n",
      "1 [4, 5, 6, 7, 8] [3] [1, 2]\n",
      "3 [] [1, 2] [3, 4, 5, 6, 7, 8]\n",
      "1 [2] [3, 4, 5, 6, 7, 8] [1]\n",
      "2 [] [1] [2, 3, 4, 5, 6, 7, 8]\n",
      "1 [] [] [1, 2, 3, 4, 5, 6, 7, 8]\n"
     ]
    }
   ],
   "source": [
    "f = [1,2,3,4,5, 6, 7, 8]\n",
    "m = []\n",
    "l = []\n",
    "n = len(f)\n",
    "\n",
    "towerOfHanoi(n, f, m, l)"
   ]
  },
  {
   "cell_type": "markdown",
   "metadata": {},
   "source": [
    "## Problem 16.2"
   ]
  },
  {
   "cell_type": "code",
   "execution_count": 1,
   "metadata": {},
   "outputs": [],
   "source": [
    "def nQueens(n : int) -> List[List[int]] :\n",
    "    \n",
    "    configs = []\n",
    "    \n",
    "    def checkConfig(config : List[int]) -> bool :\n",
    "        \n",
    "        n_c = len(config)\n",
    "        \n",
    "        if n_c == 1:\n",
    "            return True\n",
    "        for i in range(n_c):\n",
    "            \n",
    "    def backTrack(config: List[int], n) :\n",
    "        \n",
    "        "
   ]
  },
  {
   "cell_type": "code",
   "execution_count": 2,
   "metadata": {},
   "outputs": [
    {
     "ename": "TypeError",
     "evalue": "'int' object is not iterable",
     "output_type": "error",
     "traceback": [
      "\u001b[1;31m---------------------------------------------------------------------------\u001b[0m",
      "\u001b[1;31mTypeError\u001b[0m                                 Traceback (most recent call last)",
      "\u001b[1;32m<ipython-input-2-69b6b14cc30a>\u001b[0m in \u001b[0;36m<module>\u001b[1;34m\u001b[0m\n\u001b[1;32m----> 1\u001b[1;33m \u001b[0mtuple\u001b[0m\u001b[1;33m(\u001b[0m\u001b[1;36m1\u001b[0m\u001b[1;33m)\u001b[0m\u001b[1;33m\u001b[0m\u001b[1;33m\u001b[0m\u001b[0m\n\u001b[0m",
      "\u001b[1;31mTypeError\u001b[0m: 'int' object is not iterable"
     ]
    }
   ],
   "source": [
    "tuple(1)"
   ]
  },
  {
   "cell_type": "markdown",
   "metadata": {},
   "source": [
    "## Problem Odd/Even Number (Detour)"
   ]
  },
  {
   "cell_type": "code",
   "execution_count": 4,
   "metadata": {},
   "outputs": [],
   "source": [
    "from functools import reduce\n",
    "from typing import List, Dict, Set\n",
    "\n",
    "def findOdd(nums : List[int]) -> int:\n",
    "    \n",
    "    num = reduce(lambda x, y:  ~(x ^ y), nums)\n",
    "    \n",
    "    return num\n",
    "    "
   ]
  },
  {
   "cell_type": "code",
   "execution_count": 9,
   "metadata": {},
   "outputs": [],
   "source": [
    "num = [1,1,2,2,3,3,3,4,4]"
   ]
  },
  {
   "cell_type": "code",
   "execution_count": 10,
   "metadata": {},
   "outputs": [
    {
     "data": {
      "text/plain": [
       "3"
      ]
     },
     "execution_count": 10,
     "metadata": {},
     "output_type": "execute_result"
    }
   ],
   "source": [
    "findOdd(num)"
   ]
  },
  {
   "cell_type": "code",
   "execution_count": 11,
   "metadata": {},
   "outputs": [],
   "source": [
    "def findEven(nums : List[int]) -> int:\n",
    "    \n",
    "    num = reduce(lambda x, y:  (x ^ y), nums)\n",
    "    \n",
    "    return num"
   ]
  },
  {
   "cell_type": "code",
   "execution_count": 12,
   "metadata": {},
   "outputs": [],
   "source": [
    "num_1 = [1,2,2,3,4,5,6,7]"
   ]
  },
  {
   "cell_type": "code",
   "execution_count": 13,
   "metadata": {},
   "outputs": [
    {
     "data": {
      "text/plain": [
       "2"
      ]
     },
     "execution_count": 13,
     "metadata": {},
     "output_type": "execute_result"
    }
   ],
   "source": [
    "findEven(num_1)"
   ]
  },
  {
   "cell_type": "code",
   "execution_count": null,
   "metadata": {},
   "outputs": [],
   "source": []
  }
 ],
 "metadata": {
  "kernelspec": {
   "display_name": "Python 3",
   "language": "python",
   "name": "python3"
  },
  "language_info": {
   "codemirror_mode": {
    "name": "ipython",
    "version": 3
   },
   "file_extension": ".py",
   "mimetype": "text/x-python",
   "name": "python",
   "nbconvert_exporter": "python",
   "pygments_lexer": "ipython3",
   "version": "3.7.6"
  }
 },
 "nbformat": 4,
 "nbformat_minor": 4
}
